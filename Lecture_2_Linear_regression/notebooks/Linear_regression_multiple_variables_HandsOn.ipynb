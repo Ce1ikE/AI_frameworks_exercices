{
 "cells": [
  {
   "attachments": {},
   "cell_type": "markdown",
   "id": "60d9fd5f",
   "metadata": {},
   "source": [
    "# Linear regression with multiple features/variables\n",
    "Let's extend the idea of linear regression to work with multiple independent variables (Multivariate Linear Regression).\n",
    "\n",
    "## Problem context:\n",
    "We want to sell houses and based on some characteristics you want to know what a good market price would be.\n",
    "We have gathered information on the recent houses that were sold in the area.\n",
    "\n",
    "It is your job to predict housing prices based on these features.\n",
    "\n",
    "The file housing_prices.txt contains a training set of housing prices in Portland, Oregon.\n",
    "\n",
    "The data is organized as\n",
    "- 1st column : size of the house (in square feet),\n",
    "- 2nd column is the number of bedrooms,\n",
    "- 3rd column is the price of the house.\n",
    "\n",
    "The only difference with the previous example is that we now have more than one independent variables (but the concepts you have learnt in the previous section applies here as well)."
   ]
  },
  {
   "cell_type": "code",
   "execution_count": null,
   "id": "59fd042f",
   "metadata": {
    "ExecuteTime": {
     "end_time": "2021-09-30T10:04:03.931974Z",
     "start_time": "2021-09-30T10:04:03.915970Z"
    }
   },
   "outputs": [],
   "source": [
    "# #################################################\n",
    "# FILL IN THE NECESSARY CODE.\n",
    "# Import the necessary packages\n",
    "# ps: We need to be able to manipulate dataframes and perform matrix calculation\n"
   ]
  },
  {
   "cell_type": "code",
   "execution_count": null,
   "id": "7d2e4808",
   "metadata": {
    "ExecuteTime": {
     "end_time": "2021-09-30T10:04:03.947970Z",
     "start_time": "2021-09-30T10:04:03.931974Z"
    }
   },
   "outputs": [],
   "source": [
    "# #################################################\n",
    "# FILL IN THE NECESSARY CODE.\n",
    "# Read the data from the file \"ex1data2.txt\" (available on Canvas) and display the top 5 rows of this data.\n"
   ]
  },
  {
   "cell_type": "markdown",
   "id": "45d4e413",
   "metadata": {
    "ExecuteTime": {
     "end_time": "2021-09-29T09:14:49.756873Z",
     "start_time": "2021-09-29T09:14:49.742872Z"
    }
   },
   "source": [
    "Fill in the following. Make sure that we have numpy arrays to continue our calculations"
   ]
  },
  {
   "cell_type": "code",
   "execution_count": null,
   "id": "1b78b277",
   "metadata": {
    "ExecuteTime": {
     "end_time": "2021-09-30T10:04:03.963966Z",
     "start_time": "2021-09-30T10:04:03.947970Z"
    }
   },
   "outputs": [],
   "source": [
    "# #################################################\n",
    "# FILL IN THE NECESSARY CODE.\n",
    "# We need\n",
    "#       X to hold all the features\n",
    "#       y to hold the labels\n",
    "#       m to hold the number of samples\n",
    "\n"
   ]
  },
  {
   "cell_type": "markdown",
   "id": "2b959f27",
   "metadata": {},
   "source": [
    "## Feature Normalization\n",
    "Looking at the data, the house sizes are about 1000 times the number of bedrooms. \n",
    "So the house size is orders of magnitude larger, so the best is to \"scale the features\" or \"normalize\", \n",
    "this will have as benefit that gradient descent converge much more quickly.\n",
    "\n",
    "We will\n",
    "  - calculate the mean of each of the features (Xo, X1)\n",
    "  - subtract the mean value of each feature from the dataset.\n",
    "  - divide each feature values by their respective standard deviations"
   ]
  },
  {
   "cell_type": "code",
   "execution_count": null,
   "id": "b031c885",
   "metadata": {
    "ExecuteTime": {
     "end_time": "2021-09-30T10:04:03.975973Z",
     "start_time": "2021-09-30T10:04:03.963966Z"
    }
   },
   "outputs": [],
   "source": [
    "# #################################################\n",
    "# FILL IN THE NECESSARY CODE.\n",
    "# Normalize X\n",
    "# Should we normalize y?\n",
    "# Convert X into the variable X_norm\n",
    "# Print out both the mean of X and the normalized output \n"
   ]
  },
  {
   "cell_type": "markdown",
   "id": "41ab5408",
   "metadata": {},
   "source": [
    "Adding the intercept term and initializing parameters"
   ]
  },
  {
   "cell_type": "code",
   "execution_count": null,
   "id": "ddf15c49",
   "metadata": {
    "ExecuteTime": {
     "end_time": "2021-09-30T10:04:03.991969Z",
     "start_time": "2021-09-30T10:04:03.975973Z"
    }
   },
   "outputs": [],
   "source": [
    "# #################################################\n",
    "# FILL IN THE NECESSARY CODE.\n",
    "# Augment the matrix X so that we can perform a X*theta in 1 go. \n",
    "# So include the possibility to multiply in 1 go, including theta0.\n",
    "# Convert X_norm into the variable X_aug\n",
    "# So include the possibility to multiply X*theta in 1 go, including theta0 (the intercept).\n",
    "\n"
   ]
  },
  {
   "cell_type": "code",
   "execution_count": null,
   "id": "bcd2463c",
   "metadata": {
    "ExecuteTime": {
     "end_time": "2021-09-30T10:04:04.007968Z",
     "start_time": "2021-09-30T10:04:03.991969Z"
    }
   },
   "outputs": [],
   "source": [
    "# #################################################\n",
    "# FILL IN THE NECESSARY CODE.\n",
    "# Initialize all the hyperparameters of our model (Learning rate, theta...)\n"
   ]
  },
  {
   "attachments": {},
   "cell_type": "markdown",
   "id": "eb551724",
   "metadata": {},
   "source": [
    "## Computing the cost"
   ]
  },
  {
   "cell_type": "code",
   "execution_count": null,
   "id": "ca6c07bb",
   "metadata": {
    "ExecuteTime": {
     "end_time": "2021-09-30T10:04:04.023966Z",
     "start_time": "2021-09-30T10:04:04.007968Z"
    }
   },
   "outputs": [],
   "source": [
    "# #################################################\n",
    "# FILL IN THE NECESSARY CODE.\n",
    "# Calculate the MSE.\n",
    "def computeCostMulti(X, y, theta):\n",
    "   \n",
    "    return "
   ]
  },
  {
   "cell_type": "code",
   "execution_count": null,
   "id": "419c6b09",
   "metadata": {
    "ExecuteTime": {
     "end_time": "2021-09-30T10:04:04.308058Z",
     "start_time": "2021-09-30T10:04:04.023966Z"
    }
   },
   "outputs": [],
   "source": [
    "cost = computeCostMulti(X_aug, y, theta)\n",
    "print(cost)"
   ]
  },
  {
   "attachments": {},
   "cell_type": "markdown",
   "id": "1f643503",
   "metadata": {},
   "source": [
    "<b>Check your calculation</b>\n",
    "\n",
    "Cost :  65591548106.45744"
   ]
  },
  {
   "attachments": {},
   "cell_type": "markdown",
   "id": "4d44e012",
   "metadata": {
    "ExecuteTime": {
     "end_time": "2021-09-29T09:51:05.865384Z",
     "start_time": "2021-09-29T09:51:05.819362Z"
    }
   },
   "source": [
    "## Creating the optimizer: Gradient Descent"
   ]
  },
  {
   "cell_type": "code",
   "execution_count": null,
   "id": "0bc365b1",
   "metadata": {
    "ExecuteTime": {
     "end_time": "2021-09-30T10:04:04.308058Z",
     "start_time": "2021-09-30T10:04:03.919Z"
    }
   },
   "outputs": [],
   "source": [
    "# #################################################\n",
    "# FILL IN THE NECESSARY CODE.\n",
    "#    X contains the multivaraite input\n",
    "#    y contain the labels\n",
    "#    theta : parameters list of our linear model\n",
    "#    learning_rate : the learning rate\n",
    "#    num_iters : number of iterations\n",
    "#    return parameter (theta) : parameters list of our linear model\n",
    "\n",
    "def gradientDescentMulti(X, y, theta, learning_rate, iterations):\n",
    "    return False"
   ]
  },
  {
   "cell_type": "code",
   "execution_count": null,
   "id": "ac2b9c4f",
   "metadata": {
    "ExecuteTime": {
     "end_time": "2021-09-30T10:04:04.312061Z",
     "start_time": "2021-09-30T10:04:03.921Z"
    }
   },
   "outputs": [],
   "source": [
    "theta = gradientDescentMulti(X_aug, y, theta, learning_rate, num_iters)\n",
    "print(theta)"
   ]
  },
  {
   "attachments": {},
   "cell_type": "markdown",
   "id": "4f966f3b",
   "metadata": {},
   "source": [
    "<pre>\n",
    "(results with learning_rate = 0.03)\n",
    "Theta with    100 iterations : [[3.39642905e+05]  [1.44952956e+05]  [5.98800848e+01]]\n",
    "Theta with    200 iterations : [[3.39642905e+05]  [1.44952956e+05]  [5.98800848e+01]]\n",
    "Theta with    400 iterations : [[3.40410919e+05]  [1.53263978e+05]  [4.64918053e+01]]\n",
    "Theta with   1000 iterations : [[3.40412660e+05]  [1.53769414e+05]  [-6.77111420e+00]]\n",
    "Theta with   5000 iterations : [[340412.65957447] [153769.70114155] [-363.65654995]]\n",
    "Theta with  10000 iterations : [[340412.65957447] [153769.94033767] [-809.74547603]]\n",
    "</pre>\n",
    "We now have the optimized value of theta. Use these values in the above cost function."
   ]
  },
  {
   "cell_type": "code",
   "execution_count": null,
   "id": "e2c5dfd6",
   "metadata": {
    "ExecuteTime": {
     "end_time": "2021-09-30T10:04:04.312061Z",
     "start_time": "2021-09-30T10:04:03.923Z"
    }
   },
   "outputs": [],
   "source": [
    "cost_multi = computeCostMulti(X_aug, y, theta)\n",
    "print(cost_multi)"
   ]
  },
  {
   "cell_type": "markdown",
   "id": "9710e965",
   "metadata": {},
   "source": [
    "<pre>\n",
    "Cost with    100 iterations :   10596969344.166979\n",
    "Cost with    200 iterations :   3344770635.4916563\n",
    "Cost with    400 iterations :   2105448288.6292474\n",
    "Cost with   1000 iterations :   2043498948.1433077\n",
    "Cost with   5000 iterations :   2043280050.6028287\n",
    "Cost with  10000 iterations :   2043280050.6028283\n",
    "</pre>"
   ]
  },
  {
   "attachments": {},
   "cell_type": "markdown",
   "id": "d9534110",
   "metadata": {},
   "source": [
    "## Predicting\n",
    "What would be the price for a 2480 square foot, 3 bedroom house?\n",
    "\n",
    "How confident are you about this prediction?"
   ]
  },
  {
   "cell_type": "code",
   "execution_count": null,
   "id": "c8424b25",
   "metadata": {
    "ExecuteTime": {
     "end_time": "2021-09-30T10:04:04.312061Z",
     "start_time": "2021-09-30T10:04:03.926Z"
    }
   },
   "outputs": [],
   "source": [
    "# #################################################\n",
    "# FILL IN THE NECESSARY CODE."
   ]
  },
  {
   "cell_type": "markdown",
   "id": "b01ea2d7",
   "metadata": {
    "ExecuteTime": {
     "end_time": "2021-09-29T18:02:12.944097Z",
     "start_time": "2021-09-29T18:02:12.938105Z"
    }
   },
   "source": [
    "What would be the price for a 5500 square foot, 6 bedroom house?\n",
    "\n",
    "How confident are you about this prediction?"
   ]
  },
  {
   "cell_type": "code",
   "execution_count": null,
   "id": "a2f0607c",
   "metadata": {
    "ExecuteTime": {
     "end_time": "2021-09-30T10:04:04.316053Z",
     "start_time": "2021-09-30T10:04:03.928Z"
    }
   },
   "outputs": [],
   "source": [
    "# #################################################\n",
    "# FILL IN THE NECESSARY CODE."
   ]
  },
  {
   "attachments": {},
   "cell_type": "markdown",
   "id": "d64f2f55",
   "metadata": {},
   "source": [
    "# Try now using Scikit-learn\n",
    "\n",
    "\n",
    "(If you prefer, create a new notebook)"
   ]
  }
 ],
 "metadata": {
  "kernelspec": {
   "display_name": "Python 3",
   "language": "python",
   "name": "python3"
  },
  "language_info": {
   "codemirror_mode": {
    "name": "ipython",
    "version": 3
   },
   "file_extension": ".py",
   "mimetype": "text/x-python",
   "name": "python",
   "nbconvert_exporter": "python",
   "pygments_lexer": "ipython3",
   "version": "3.8.8"
  },
  "toc": {
   "base_numbering": 1,
   "nav_menu": {},
   "number_sections": true,
   "sideBar": true,
   "skip_h1_title": false,
   "title_cell": "Table of Contents",
   "title_sidebar": "Contents",
   "toc_cell": false,
   "toc_position": {},
   "toc_section_display": true,
   "toc_window_display": false
  }
 },
 "nbformat": 4,
 "nbformat_minor": 5
}
